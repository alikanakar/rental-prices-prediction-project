{
 "cells": [
  {
   "cell_type": "code",
   "execution_count": 4,
   "metadata": {},
   "outputs": [
    {
     "output_type": "stream",
     "name": "stdout",
     "text": "<Response [200]>\nhttps://www.pararius.com/apartments/amsterdam/page-1\n4.369987281396231\n<Response [200]>\nhttps://www.pararius.com/apartments/amsterdam/page-2\n2.0416499428078945\n<Response [200]>\nhttps://www.pararius.com/apartments/amsterdam/page-3\n4.649380723508691\n<Response [200]>\nhttps://www.pararius.com/apartments/amsterdam/page-4\n1.2899836683962116\n<Response [200]>\nhttps://www.pararius.com/apartments/amsterdam/page-5\n3.577162036600117\n<Response [200]>\nhttps://www.pararius.com/apartments/amsterdam/page-6\n2.2994808204787582\n<Response [200]>\nhttps://www.pararius.com/apartments/amsterdam/page-7\n1.2720937755707205\n<Response [200]>\nhttps://www.pararius.com/apartments/amsterdam/page-8\n4.157266849584005\n<Response [200]>\nhttps://www.pararius.com/apartments/amsterdam/page-9\n3.939113962700939\n<Response [200]>\nhttps://www.pararius.com/apartments/amsterdam/page-10\n4.962268772419161\n<Response [200]>\nhttps://www.pararius.com/apartments/amsterdam/page-11\n3.8786251167430006\n<Response [200]>\nhttps://www.pararius.com/apartments/amsterdam/page-12\n3.4303492030414886\n<Response [200]>\nhttps://www.pararius.com/apartments/amsterdam/page-13\n1.5274048922692582\n<Response [200]>\nhttps://www.pararius.com/apartments/amsterdam/page-14\n4.701904867353211\n<Response [200]>\nhttps://www.pararius.com/apartments/amsterdam/page-15\n3.7970815426093125\n<Response [200]>\nhttps://www.pararius.com/apartments/amsterdam/page-16\n4.306680012203641\n<Response [200]>\nhttps://www.pararius.com/apartments/amsterdam/page-17\n2.6530760471151233\n<Response [200]>\nhttps://www.pararius.com/apartments/amsterdam/page-18\n4.812648587490572\n<Response [200]>\nhttps://www.pararius.com/apartments/amsterdam/page-19\n2.681363041139728\n<Response [200]>\nhttps://www.pararius.com/apartments/amsterdam/page-20\n1.2245908365901976\n<Response [200]>\nhttps://www.pararius.com/apartments/amsterdam/page-21\n2.443674235964854\n<Response [200]>\nhttps://www.pararius.com/apartments/amsterdam/page-22\n3.1514256777356398\n<Response [200]>\nhttps://www.pararius.com/apartments/amsterdam/page-23\n2.8018499317072383\n<Response [200]>\nhttps://www.pararius.com/apartments/amsterdam/page-24\n2.3186538686042426\n<Response [200]>\nhttps://www.pararius.com/apartments/amsterdam/page-25\n4.5300496018710135\n<Response [200]>\nhttps://www.pararius.com/apartments/amsterdam/page-26\n4.18528438491735\n<Response [200]>\nhttps://www.pararius.com/apartments/amsterdam/page-27\n2.0671332245196323\n<Response [200]>\nhttps://www.pararius.com/apartments/amsterdam/page-28\n2.944713881921018\n<Response [200]>\nhttps://www.pararius.com/apartments/amsterdam/page-29\n4.895922127547232\n<Response [200]>\nhttps://www.pararius.com/apartments/amsterdam/page-30\n1.1398387985295577\n<Response [200]>\nhttps://www.pararius.com/apartments/amsterdam/page-31\n4.82311801734256\n<Response [200]>\nhttps://www.pararius.com/apartments/amsterdam/page-32\n1.9224823992978686\n<Response [200]>\nhttps://www.pararius.com/apartments/amsterdam/page-33\n4.54785865129271\n<Response [200]>\nhttps://www.pararius.com/apartments/amsterdam/page-34\n2.5333935758243062\n<Response [200]>\nhttps://www.pararius.com/apartments/amsterdam/page-35\n2.598178787224121\n<Response [200]>\nhttps://www.pararius.com/apartments/amsterdam/page-36\n1.5995835420273234\n<Response [200]>\nhttps://www.pararius.com/apartments/amsterdam/page-37\n1.2951404920340863\n<Response [200]>\nhttps://www.pararius.com/apartments/amsterdam/page-38\n3.9542896449283167\n<Response [200]>\nhttps://www.pararius.com/apartments/amsterdam/page-39\n1.8275211448794457\n<Response [200]>\nhttps://www.pararius.com/apartments/amsterdam/page-40\n3.9462803305655405\n<Response [200]>\nhttps://www.pararius.com/apartments/amsterdam/page-41\n4.267284126822062\n<Response [200]>\nhttps://www.pararius.com/apartments/amsterdam/page-42\n4.651752877735561\n<Response [200]>\nhttps://www.pararius.com/apartments/amsterdam/page-43\n3.3758244787265728\n<Response [200]>\nhttps://www.pararius.com/apartments/amsterdam/page-44\n2.0537895538355726\n<Response [200]>\nhttps://www.pararius.com/apartments/amsterdam/page-45\n2.8243063420240455\n<Response [200]>\nhttps://www.pararius.com/apartments/amsterdam/page-46\n1.7684100031324475\n<Response [200]>\nhttps://www.pararius.com/apartments/amsterdam/page-47\n1.0772083431376607\n<Response [200]>\nhttps://www.pararius.com/apartments/amsterdam/page-48\n4.8407357821074815\n<Response [200]>\nhttps://www.pararius.com/apartments/amsterdam/page-49\n1.8070699684768066\n<Response [200]>\nhttps://www.pararius.com/apartments/amsterdam/page-50\n3.2275811915701427\n<Response [200]>\nhttps://www.pararius.com/apartments/amsterdam/page-51\n1.4777138453655674\n<Response [200]>\nhttps://www.pararius.com/apartments/amsterdam/page-52\n2.418294817661753\n<Response [200]>\nhttps://www.pararius.com/apartments/amsterdam/page-53\n2.0074838929718157\n<Response [200]>\nhttps://www.pararius.com/apartments/amsterdam/page-54\n3.9921427390468027\n<Response [200]>\nhttps://www.pararius.com/apartments/amsterdam/page-55\n2.049158394198419\n<Response [200]>\nhttps://www.pararius.com/apartments/amsterdam/page-56\n4.996251311142064\n<Response [200]>\nhttps://www.pararius.com/apartments/amsterdam/page-57\n3.2145028412151113\n<Response [200]>\nhttps://www.pararius.com/apartments/amsterdam/page-58\n4.49637486754729\n<Response [200]>\nhttps://www.pararius.com/apartments/amsterdam/page-59\n2.5505627568226714\n<Response [200]>\nhttps://www.pararius.com/apartments/amsterdam/page-60\n2.959131458842414\n<Response [200]>\nhttps://www.pararius.com/apartments/amsterdam/page-61\n4.880671852970737\n<Response [200]>\nhttps://www.pararius.com/apartments/amsterdam/page-62\n1.581236844659657\n<Response [200]>\nhttps://www.pararius.com/apartments/amsterdam/page-63\n3.2021233702295757\n<Response [200]>\nhttps://www.pararius.com/apartments/amsterdam/page-64\n2.9296563527608925\n<Response [200]>\nhttps://www.pararius.com/apartments/amsterdam/page-65\n3.8429154581669756\n<Response [200]>\nhttps://www.pararius.com/apartments/amsterdam/page-66\n1.7654964564996045\n<Response [200]>\nhttps://www.pararius.com/apartments/amsterdam/page-67\n2.7927551116077325\n<Response [200]>\nhttps://www.pararius.com/apartments/amsterdam/page-68\n1.7111527462641614\n<Response [200]>\nhttps://www.pararius.com/apartments/amsterdam/page-69\n4.57771667161774\n<Response [200]>\nhttps://www.pararius.com/apartments/amsterdam/page-70\n2.997605032414387\n<Response [200]>\nhttps://www.pararius.com/apartments/amsterdam/page-71\n2.89135992191584\n<Response [200]>\nhttps://www.pararius.com/apartments/amsterdam/page-72\n2.710227126937476\n<Response [200]>\nhttps://www.pararius.com/apartments/amsterdam/page-73\n4.895117872719672\n<Response [200]>\nhttps://www.pararius.com/apartments/amsterdam/page-74\n3.629395720102187\n<Response [200]>\nhttps://www.pararius.com/apartments/amsterdam/page-75\n4.423054275662088\n<Response [200]>\nhttps://www.pararius.com/apartments/amsterdam/page-76\n1.1955320096817341\n<Response [200]>\nhttps://www.pararius.com/apartments/amsterdam/page-77\n3.855367633259989\n<Response [200]>\nhttps://www.pararius.com/apartments/amsterdam/page-78\n4.817528454811626\n<Response [200]>\nhttps://www.pararius.com/apartments/amsterdam/page-79\n2.444273221259768\n<Response [200]>\nhttps://www.pararius.com/apartments/amsterdam/page-80\n2.1119977138465997\n<Response [200]>\nhttps://www.pararius.com/apartments/amsterdam/page-81\n1.6330374148502402\n<Response [200]>\nhttps://www.pararius.com/apartments/amsterdam/page-82\n2.185901619036476\n<Response [200]>\nhttps://www.pararius.com/apartments/amsterdam/page-83\n4.147356219408534\n<Response [200]>\nhttps://www.pararius.com/apartments/amsterdam/page-84\n3.5454407248270283\n<Response [200]>\nhttps://www.pararius.com/apartments/amsterdam/page-85\n4.730315787610554\n<Response [400]>\nhttps://www.pararius.com/apartments/amsterdam/page-86\n<Response [400]>\nhttps://www.pararius.com/apartments/amsterdam/page-87\n<Response [400]>\nhttps://www.pararius.com/apartments/amsterdam/page-88\n<Response [400]>\nhttps://www.pararius.com/apartments/amsterdam/page-89\n<Response [400]>\nhttps://www.pararius.com/apartments/amsterdam/page-90\n<Response [400]>\nhttps://www.pararius.com/apartments/amsterdam/page-91\n<Response [400]>\nhttps://www.pararius.com/apartments/amsterdam/page-92\n<Response [400]>\nhttps://www.pararius.com/apartments/amsterdam/page-93\n<Response [400]>\nhttps://www.pararius.com/apartments/amsterdam/page-94\n<Response [400]>\nhttps://www.pararius.com/apartments/amsterdam/page-95\n<Response [400]>\nhttps://www.pararius.com/apartments/amsterdam/page-96\n<Response [400]>\nhttps://www.pararius.com/apartments/amsterdam/page-97\n<Response [400]>\nhttps://www.pararius.com/apartments/amsterdam/page-98\n<Response [400]>\nhttps://www.pararius.com/apartments/amsterdam/page-99\n<Response [400]>\nhttps://www.pararius.com/apartments/amsterdam/page-100\n"
    }
   ],
   "source": [
    "import pandas as pd\n",
    "import itertools \n",
    "from bs4 import BeautifulSoup\n",
    "import requests\n",
    "import time\n",
    "from random import seed\n",
    "from random import random\n",
    "from random import randint\n",
    "\n",
    "# specify the url format\n",
    "#url = 'https://www.pararius.com/apartments/amsterdam/page-'\n",
    "# initialize a list called houses \n",
    "houses = []\n",
    "# initialize variable count at 1\n",
    "count = 1\n",
    "#initialize return value of get_house_data functionP\n",
    "house_data = []\n",
    "\n",
    "def get_house_data(page):\n",
    "# request the response\n",
    "    response = get(page)\n",
    "    print(response)\n",
    "    # parse through the html \n",
    "    html_soup = BeautifulSoup(response.text, 'html.parser')\n",
    "    # in the html of the page, find all the bins with <li> and class:\n",
    "    house_data = html_soup.find_all('li', class_=\"search-list__item search-list__item--listing\")\n",
    "    # I like to print where the program is on the screen so we can follow its progress and where any errors happened\n",
    "    print(page)\n",
    "    \n",
    "    # if the response was not empty (if something was actually scraped)\n",
    "    if house_data != []:\n",
    "        # add to the list houses\n",
    "        houses.extend(house_data)\n",
    "        # random wait times\n",
    "        value = random()\n",
    "        scaled_value = 1 + (value * (9 - 5))\n",
    "        print(scaled_value)\n",
    "        time.sleep(scaled_value)\n",
    "    return house_data\n",
    "    \n",
    "\n",
    "# first while loop that will run 100 times (adjust this to how many pages you want to scrape)\n",
    "while count <= 85:\n",
    "    # initialize variable new_count at 0\n",
    "    new_count = 0\n",
    "    # if loop that specifies the first page separately (many websites have a first page url format different than other pages)\n",
    "    if count == 1:\n",
    "        first_page = 'https://www.pararius.com/apartments/amsterdam/page-1'\n",
    "        get_house_data(first_page)\n",
    "    # pages other than the first\n",
    "    elif count != 1:\n",
    "    # collect four and wait random times \n",
    "        url = 'https://www.pararius.com/apartments/amsterdam/page-' + str(count)\n",
    "        get_house_data(url)\n",
    "\n",
    "    count += 1"
   ]
  },
  {
   "cell_type": "code",
   "execution_count": null,
   "metadata": {},
   "outputs": [],
   "source": []
  }
 ],
 "metadata": {
  "language_info": {
   "codemirror_mode": {
    "name": "ipython",
    "version": 3
   },
   "file_extension": ".py",
   "mimetype": "text/x-python",
   "name": "python",
   "nbconvert_exporter": "python",
   "pygments_lexer": "ipython3",
   "version": "3.7.6-final"
  },
  "orig_nbformat": 2,
  "kernelspec": {
   "name": "python3",
   "display_name": "Python 3"
  }
 },
 "nbformat": 4,
 "nbformat_minor": 2
}